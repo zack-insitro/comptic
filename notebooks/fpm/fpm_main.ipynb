{
 "cells": [
  {
   "cell_type": "markdown",
   "metadata": {},
   "source": [
    "## FPM Reconstruction Script"
   ]
  },
  {
   "cell_type": "code",
   "execution_count": null,
   "metadata": {
    "ExecuteTime": {
     "end_time": "2019-03-20T16:23:41.022132Z",
     "start_time": "2019-03-20T16:23:36.223797Z"
    }
   },
   "outputs": [],
   "source": [
    "%load_ext autoreload\n",
    "%autoreload 2\n",
    "%matplotlib notebook\n",
    "\n",
    "import scipy.io as sio\n",
    "import scipy.linalg as la\n",
    "import matplotlib.pyplot as plt\n",
    "import numpy as np\n",
    "import os, glob, json\n",
    "\n",
    "# Backend-independent operations\n",
    "import llops as yp\n",
    "\n",
    "# FPM functions\n",
    "from comptic import fpm\n",
    "from fpm import util"
   ]
  },
  {
   "cell_type": "markdown",
   "metadata": {},
   "source": [
    "# Generate LED Positions"
   ]
  },
  {
   "cell_type": "code",
   "execution_count": null,
   "metadata": {},
   "outputs": [],
   "source": [
    "# Load LED positions\n",
    "source_list_mat_file_name = './source_list_quasi_dome.mat'\n",
    "mat = sio.loadmat(source_list_mat_file_name)\n",
    "source_list_cart = mat['source_list_cart'].copy()"
   ]
  },
  {
   "cell_type": "markdown",
   "metadata": {},
   "source": [
    "# Load Data"
   ]
  },
  {
   "cell_type": "code",
   "execution_count": 4,
   "metadata": {
    "ExecuteTime": {
     "end_time": "2019-03-20T16:25:42.875384Z",
     "start_time": "2019-03-20T16:25:42.611595Z"
    }
   },
   "outputs": [],
   "source": [
    "\n",
    "\n",
    "# Single LED Scan\n",
    "dataset_path = '/Users/zfphil/Dropbox/Datasets/2017-09-29 Multiplex FPM/fpm_2017_09_29_17_10_41'\n",
    "\n",
    "# Multiplexed LED Scan\n",
    "# dataset_path = '/Users/zfphil/Dropbox/Datasets/2017-09-29 Multiplex FPM/fpm_2017_09_29_17_17_47'\n",
    "\n",
    "mat = sio.loadmat(source_list_mat_file_name)\n",
    "\n",
    "\n",
    "# Define system parameters for our system\n",
    "system_parameters = {\n",
    "                         'objective_numerical_aperture': 0.25,\n",
    "                         'objective_magnification': 10.0,\n",
    "                         'system_magnification': 1.0,\n",
    "                         'camera_pixel_size': 6.5e-6,\n",
    "                         'camera_is_color': False,\n",
    "                         'illumination_wavelength': 0.53e-6,\n",
    "                         'illumination_source_position_list_cartesian': mat['source_list_cart'].copy()\n",
    "                     }\n",
    "\n",
    "# Load frames\n",
    "frame_file_list = sorted(glob.glob(os.path.join(dataset_path, '*.tif')))\n",
    "\n",
    "# Deal with .tiff stack case\n",
    "if len(frame_file_list) == 1:\n",
    "    frame_list = util.readMultiPageTiff(frame_file_list[0])\n",
    "else:\n",
    "    frame_list = []\n",
    "    for frame_file in frame_file_list:\n",
    "        frame_list.append(util.readMultiPageTiff(frame_file))\n"
   ]
  },
  {
   "cell_type": "markdown",
   "metadata": {},
   "source": [
    "# Process Data"
   ]
  },
  {
   "cell_type": "code",
   "execution_count": null,
   "metadata": {},
   "outputs": [],
   "source": []
  },
  {
   "cell_type": "code",
   "execution_count": null,
   "metadata": {
    "ExecuteTime": {
     "end_time": "2017-10-05T00:14:44.288235Z",
     "start_time": "2017-10-05T00:14:36.120952Z"
    }
   },
   "outputs": [],
   "source": [
    "fpm_opt = fpm.FpmOptions()\n",
    "\n",
    "# Define custom options\n",
    "fpm_opt.roi = iotools.Roi(x_start=225, x_end=275, y_start=225, y_end=275)\n",
    "fpm_opt.alg_gd_step_size = 1e-1\n",
    "fpm_opt.alg_nest_alpha = 1e-3\n",
    "fpm_opt.alg_nest_beta = 1e-4\n",
    "fpm_opt.led_auto_calib_use_pre = True\n",
    "fpm_opt.led_auto_calib_enabled = False\n",
    "fpm_opt.live_plot = True\n",
    "fpm_opt.max_na = 0.5\n",
    "fpm_opt.max_it = 25\n",
    "fpm_opt.lm_delta2 = 5e0\n",
    "fpm_opt.algorithm = \"seq_gd\"\n",
    "fpm_opt.objective_function_type = 'intensity'\n",
    "\n",
    "# Create FPM solver object and run solver\n",
    "fpm_obj = fpm.FpmSolver(dataset=fpm_dataset, options=fpm_opt)\n",
    "\n",
    "# Run Solver\n",
    "fpm_obj.run()\n",
    "\n",
    "# Plot Result\n",
    "fpm_obj.plotResult()"
   ]
  },
  {
   "cell_type": "markdown",
   "metadata": {},
   "source": [
    "## Update the LED positions and save"
   ]
  },
  {
   "cell_type": "code",
   "execution_count": null,
   "metadata": {
    "ExecuteTime": {
     "end_time": "2017-10-04T21:52:24.989426Z",
     "start_time": "2017-10-04T21:52:24.961354Z"
    }
   },
   "outputs": [],
   "source": [
    "if True:\n",
    "    mat['source_list_na'] = fpm_obj.source_list_na.copy()\n",
    "    sio.savemat(source_list_mat_file_name,mat)"
   ]
  }
 ],
 "metadata": {
  "kernelspec": {
   "display_name": "Python 3",
   "language": "python",
   "name": "python3"
  },
  "language_info": {
   "codemirror_mode": {
    "name": "ipython",
    "version": 3
   },
   "file_extension": ".py",
   "mimetype": "text/x-python",
   "name": "python",
   "nbconvert_exporter": "python",
   "pygments_lexer": "ipython3",
   "version": "3.7.1"
  },
  "latex_envs": {
   "LaTeX_envs_menu_present": true,
   "autocomplete": true,
   "bibliofile": "biblio.bib",
   "cite_by": "apalike",
   "current_citInitial": 1,
   "eqLabelWithNumbers": true,
   "eqNumInitial": 0,
   "hotkeys": {
    "equation": "Ctrl-E",
    "itemize": "Ctrl-I"
   },
   "labels_anchors": false,
   "latex_user_defs": false,
   "report_style_numbering": false,
   "user_envs_cfg": false
  },
  "varInspector": {
   "cols": {
    "lenName": 16,
    "lenType": 16,
    "lenVar": 40
   },
   "kernels_config": {
    "python": {
     "delete_cmd_postfix": "",
     "delete_cmd_prefix": "del ",
     "library": "var_list.py",
     "varRefreshCmd": "print(var_dic_list())"
    },
    "r": {
     "delete_cmd_postfix": ") ",
     "delete_cmd_prefix": "rm(",
     "library": "var_list.r",
     "varRefreshCmd": "cat(var_dic_list()) "
    }
   },
   "types_to_exclude": [
    "module",
    "function",
    "builtin_function_or_method",
    "instance",
    "_Feature"
   ],
   "window_display": true
  }
 },
 "nbformat": 4,
 "nbformat_minor": 1
}