{
 "cells": [
  {
   "cell_type": "code",
   "execution_count": 4,
   "metadata": {
    "ExecuteTime": {
     "end_time": "2018-10-19T01:06:02.322108Z",
     "start_time": "2018-10-19T01:06:02.318853Z"
    }
   },
   "outputs": [],
   "source": [
    "import llops as yp\n",
    "import numpy as np\n",
    "import libwallerlab.utilities.transformation as transformation"
   ]
  },
  {
   "cell_type": "code",
   "execution_count": 14,
   "metadata": {
    "ExecuteTime": {
     "end_time": "2018-10-19T01:06:27.493116Z",
     "start_time": "2018-10-19T01:06:27.478209Z"
    }
   },
   "outputs": [],
   "source": [
    "# Generate point list\n",
    "point_list = yp.rand((100, 2), backend='numpy', dtype='float32') \n",
    "\n",
    "# Append ones along a dimension\n",
    "point_list_augmented = np.append(point_list, np.ones((len(point_list), 1), dtype='float32'), axis=1)\n",
    "\n",
    "# Generate random homography matrix\n",
    "H = yp.rand((3,3), backend='numpy', dtype='float32')\n",
    "H[2,:] = 1.0\n",
    "\n",
    "# Compute homography\n",
    "M = transformation.affineHomographyBlocks(np.asarray(point_list))\n",
    "\n",
    "# Generate new points using homography method\n",
    "y1 = yp.transpose(yp.matmul(H, yp.transpose(point_list_augmented, hermitian=False)), hermitian=False)[:, :2]\n",
    "\n",
    "# Generate new points using affineHomographyBlocks method\n",
    "y2 = yp.reshape(yp.matmul(M, yp.vec(H)[:6]).T, yp.shape(y1))\n",
    "\n",
    "# Check equality\n",
    "yp.assert_equality(y1, y2, threshold=1e-5)"
   ]
  }
 ],
 "metadata": {
  "kernelspec": {
   "display_name": "Python 3",
   "language": "python",
   "name": "python3"
  },
  "language_info": {
   "codemirror_mode": {
    "name": "ipython",
    "version": 3
   },
   "file_extension": ".py",
   "mimetype": "text/x-python",
   "name": "python",
   "nbconvert_exporter": "python",
   "pygments_lexer": "ipython3",
   "version": "3.7.0"
  }
 },
 "nbformat": 4,
 "nbformat_minor": 2
}
