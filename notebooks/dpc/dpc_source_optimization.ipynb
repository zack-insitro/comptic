{
 "cells": [
  {
   "cell_type": "code",
   "execution_count": 1,
   "metadata": {
    "ExecuteTime": {
     "end_time": "2020-05-04T02:05:32.649509Z",
     "start_time": "2020-05-04T02:05:32.606102Z"
    },
    "tags": []
   },
   "outputs": [],
   "source": [
    "%matplotlib widget\n",
    "%load_ext autoreload\n",
    "%autoreload 2\n",
    "\n",
    "import numpy as np\n",
    "import matplotlib.pyplot as plt\n",
    "from numpy.linalg import svd\n",
    "from scipy import interpolate \n",
    "import os\n",
    "\n",
    "# llops imports\n",
    "import llops as yp\n",
    "import llops.simulation as sim\n",
    "\n",
    "# Comptic imports\n",
    "import comptic\n",
    "\n",
    "# DPC analysis function\n",
    "import pydpc\n",
    "\n",
    "# Set backend and dtype for llops\n",
    "yp.setDefaultBackend('numpy')\n",
    "yp.setDefaultDatatype('float32')\n",
    "\n",
    "# Directory to save figures\n",
    "output_dir = os.path.expanduser('~/Desktop')"
   ]
  },
  {
   "cell_type": "markdown",
   "metadata": {},
   "source": [
    "# Define Object"
   ]
  },
  {
   "cell_type": "code",
   "execution_count": 2,
   "metadata": {
    "ExecuteTime": {
     "end_time": "2020-05-04T02:05:34.332256Z",
     "start_time": "2020-05-04T02:05:33.868940Z"
    }
   },
   "outputs": [
    {
     "output_type": "display_data",
     "data": {
      "text/plain": "Canvas(toolbar=Toolbar(toolitems=[('Home', 'Reset original view', 'home', 'home'), ('Back', 'Back to previous …",
      "application/vnd.jupyter.widget-view+json": {
       "version_major": 2,
       "version_minor": 0,
       "model_id": "25e28d9c6bc64e6e8f0b0098c4cf93d9"
      }
     },
     "metadata": {}
    }
   ],
   "source": [
    "# Define object shape\n",
    "object_shape = (256, 256)\n",
    "# object_shape = (16, 16)\n",
    "\n",
    "# Define complex object (field)\n",
    "field = sim.ucb(object_shape)\n",
    "\n",
    "# Get amplitude and phase\n",
    "amp, phase = np.abs(field), np.angle(field)\n",
    "\n",
    "# Plot\n",
    "plt.figure()\n",
    "plt.subplot(121)\n",
    "plt.imshow(np.abs(field), cmap = 'gray')\n",
    "plt.title('Absorption')\n",
    "plt.colorbar()\n",
    "plt.subplot(122)\n",
    "plt.imshow(np.angle(field), cmap = 'gray')\n",
    "plt.title('Phase')\n",
    "plt.colorbar()\n",
    "plt.tight_layout()"
   ]
  },
  {
   "cell_type": "markdown",
   "metadata": {},
   "source": [
    "## Get System Parameters "
   ]
  },
  {
   "cell_type": "code",
   "execution_count": 3,
   "metadata": {
    "ExecuteTime": {
     "end_time": "2020-05-04T02:05:42.301635Z",
     "start_time": "2020-05-04T02:05:42.270918Z"
    }
   },
   "outputs": [],
   "source": [
    "led_positions = comptic.ledarray.getPositionsNa('quasi-dome')\n",
    "\n",
    "# Get remaining system parameters\n",
    "system_parameters = pydpc.getDefaultSystemParams(system_magnification=2,\n",
    "                                             illumination_source_position_list_na=led_positions)"
   ]
  },
  {
   "cell_type": "markdown",
   "metadata": {},
   "source": [
    "# Defining a Source Using LED Positions"
   ]
  },
  {
   "cell_type": "markdown",
   "metadata": {},
   "source": [
    "## Generate DPC Source Positions"
   ]
  },
  {
   "cell_type": "code",
   "execution_count": 4,
   "metadata": {
    "ExecuteTime": {
     "end_time": "2020-05-04T02:05:44.464773Z",
     "start_time": "2020-05-04T02:05:44.364912Z"
    }
   },
   "outputs": [
    {
     "output_type": "display_data",
     "data": {
      "text/plain": "Canvas(toolbar=Toolbar(toolitems=[('Home', 'Reset original view', 'home', 'home'), ('Back', 'Back to previous …",
      "application/vnd.jupyter.widget-view+json": {
       "version_major": 2,
       "version_minor": 0,
       "model_id": "eedbc202a9eb4f8c927cbc1155f32bc5"
      }
     },
     "metadata": {}
    }
   ],
   "source": [
    "# Generate LED patterns\n",
    "source_names = ['Right', 'Left', 'Top', 'Bottom']\n",
    "dpc_led_pattern_list = pydpc.genDpcSourcePositionList(dpc_type_list=source_names, **system_parameters)\n",
    "\n",
    "# Show patterns\n",
    "pydpc.plotSourcePositionList(dpc_led_pattern_list, labels=source_names, **system_parameters)"
   ]
  },
  {
   "cell_type": "markdown",
   "metadata": {},
   "source": [
    "## Show WOTFs"
   ]
  },
  {
   "cell_type": "code",
   "execution_count": 5,
   "metadata": {
    "ExecuteTime": {
     "end_time": "2020-05-04T02:05:46.663348Z",
     "start_time": "2020-05-04T02:05:46.052406Z"
    }
   },
   "outputs": [
    {
     "output_type": "display_data",
     "data": {
      "text/plain": "Canvas(toolbar=Toolbar(toolitems=[('Home', 'Reset original view', 'home', 'home'), ('Back', 'Back to previous …",
      "application/vnd.jupyter.widget-view+json": {
       "version_major": 2,
       "version_minor": 0,
       "model_id": "1759b1abf58b4d62b17f1961069d3be6"
      }
     },
     "metadata": {}
    }
   ],
   "source": [
    "# Generate corresponding WOTFs\n",
    "Hr_list, Hi_list = pydpc.genWotfsFromSourcePositionList(object_shape, dpc_led_pattern_list, **system_parameters )\n",
    "\n",
    "# Show WOTFs\n",
    "pydpc.plotWotfList(Hr_list, Hi_list, labels=source_names)"
   ]
  },
  {
   "cell_type": "markdown",
   "metadata": {},
   "source": [
    "## Generate Nonlinear Measurements from Source Positions"
   ]
  },
  {
   "cell_type": "code",
   "execution_count": 6,
   "metadata": {
    "ExecuteTime": {
     "end_time": "2020-05-04T02:05:53.639331Z",
     "start_time": "2020-05-04T02:05:52.981906Z"
    }
   },
   "outputs": [
    {
     "output_type": "display_data",
     "data": {
      "text/plain": "Canvas(toolbar=Toolbar(toolitems=[('Home', 'Reset original view', 'home', 'home'), ('Back', 'Back to previous …",
      "application/vnd.jupyter.widget-view+json": {
       "version_major": 2,
       "version_minor": 0,
       "model_id": "7b867408c52b4756bc1f75d99280ba50"
      }
     },
     "metadata": {}
    }
   ],
   "source": [
    "# Generate Intensities\n",
    "measurement_list = [pydpc.genMeasurementNonLinear(field, dpc_pattern, **system_parameters) for dpc_pattern in dpc_led_pattern_list]\n",
    "\n",
    "# Show result\n",
    "yp.listPlotFlat(measurement_list, source_names)"
   ]
  },
  {
   "cell_type": "markdown",
   "metadata": {},
   "source": [
    "## Generate Linear Measurements from Source Positions"
   ]
  },
  {
   "cell_type": "code",
   "execution_count": 7,
   "metadata": {
    "ExecuteTime": {
     "end_time": "2020-05-04T02:05:59.577706Z",
     "start_time": "2020-05-04T02:05:59.062301Z"
    }
   },
   "outputs": [
    {
     "output_type": "display_data",
     "data": {
      "text/plain": "Canvas(toolbar=Toolbar(toolitems=[('Home', 'Reset original view', 'home', 'home'), ('Back', 'Back to previous …",
      "application/vnd.jupyter.widget-view+json": {
       "version_major": 2,
       "version_minor": 0,
       "model_id": "fd24346275a34bf9a3a192f9b8ad5a79"
      }
     },
     "metadata": {}
    }
   ],
   "source": [
    "## Generate DPC patterns\n",
    "intensity_list = pydpc.genMeasurementsLinear(field, dpc_led_pattern_list, **system_parameters)\n",
    "\n",
    "# Print intensity\n",
    "yp.listPlotFlat(intensity_list, source_names)"
   ]
  },
  {
   "cell_type": "markdown",
   "metadata": {},
   "source": [
    "# Using a Continuous Source"
   ]
  },
  {
   "cell_type": "code",
   "execution_count": 8,
   "metadata": {
    "ExecuteTime": {
     "end_time": "2020-05-04T02:08:34.946463Z",
     "start_time": "2020-05-04T02:08:34.870307Z"
    }
   },
   "outputs": [
    {
     "output_type": "display_data",
     "data": {
      "text/plain": "Canvas(toolbar=Toolbar(toolitems=[('Home', 'Reset original view', 'home', 'home'), ('Back', 'Back to previous …",
      "application/vnd.jupyter.widget-view+json": {
       "version_major": 2,
       "version_minor": 0,
       "model_id": "79de35e7b9604dd3959ab634c5639613"
      }
     },
     "metadata": {}
    }
   ],
   "source": [
    "# Generate LED patterns\n",
    "source_names = ['Right', 'Left', 'Top', 'Bottom']\n",
    "dpc_source_list_continuous = pydpc.genDpcSourceList(object_shape, dpc_type_list=source_names, **system_parameters)\n",
    "\n",
    "# Show patterns\n",
    "yp.listPlotFlat(dpc_source_list_continuous, source_names)"
   ]
  },
  {
   "cell_type": "markdown",
   "metadata": {},
   "source": [
    "## Generate WOTFs"
   ]
  },
  {
   "cell_type": "code",
   "execution_count": 9,
   "metadata": {
    "ExecuteTime": {
     "end_time": "2020-05-04T02:08:35.863668Z",
     "start_time": "2020-05-04T02:08:35.717346Z"
    }
   },
   "outputs": [
    {
     "output_type": "display_data",
     "data": {
      "text/plain": "Canvas(toolbar=Toolbar(toolitems=[('Home', 'Reset original view', 'home', 'home'), ('Back', 'Back to previous …",
      "application/vnd.jupyter.widget-view+json": {
       "version_major": 2,
       "version_minor": 0,
       "model_id": "cc6482d2485d45f1bb1af2c5669f452a"
      }
     },
     "metadata": {}
    }
   ],
   "source": [
    "# Generate corresponding WOTFs\n",
    "Hr_list, Hi_list = pydpc.genWotfsFromSourceList(dpc_source_list_continuous, **system_parameters )\n",
    "\n",
    "# Show WOTFs\n",
    "pydpc.plotWotfList(Hr_list, Hi_list, labels=source_names)"
   ]
  },
  {
   "cell_type": "markdown",
   "metadata": {},
   "source": [
    "# Calculate Estimated SNR of Measurements"
   ]
  },
  {
   "cell_type": "code",
   "execution_count": 10,
   "metadata": {
    "ExecuteTime": {
     "end_time": "2020-05-04T02:08:39.730139Z",
     "start_time": "2020-05-04T02:08:39.699230Z"
    },
    "tags": []
   },
   "outputs": [
    {
     "output_type": "stream",
     "name": "stdout",
     "text": "[137.32522037864427, 137.32522037864427, 137.32522037864427, 137.32522037864427]\n"
    }
   ],
   "source": [
    "# Define illuminance at sample per LED\n",
    "per_led_illuminance = 1000\n",
    "\n",
    "# Determine total illuminance for each pattern\n",
    "total_pattern_illuminance = [per_led_illuminance * yp.sum(dpc_pattern) for dpc_pattern in dpc_led_pattern_list]\n",
    "\n",
    "# Determine photon pixel rate\n",
    "photon_pixel_rate_list = [pydpc.analysis.illuminanceToPhotonPixelRate(illuminance, **system_parameters) for illuminance in total_pattern_illuminance]\n",
    "\n",
    "# Define Exposure time\n",
    "exposure_time = 0.01\n",
    "\n",
    "# Determine measurement SNR\n",
    "snr_list = [pydpc.analysis.photonPixelRateToSnr(photon_pixel_rate, exposure_time, **system_parameters) for photon_pixel_rate in photon_pixel_rate_list]\n",
    "print(snr_list)"
   ]
  },
  {
   "cell_type": "markdown",
   "metadata": {},
   "source": [
    "## Add SNR to Measurements"
   ]
  },
  {
   "cell_type": "code",
   "execution_count": 11,
   "metadata": {
    "ExecuteTime": {
     "end_time": "2020-05-04T02:08:44.306429Z",
     "start_time": "2020-05-04T02:08:44.219592Z"
    }
   },
   "outputs": [
    {
     "output_type": "display_data",
     "data": {
      "text/plain": "Canvas(toolbar=Toolbar(toolitems=[('Home', 'Reset original view', 'home', 'home'), ('Back', 'Back to previous …",
      "application/vnd.jupyter.widget-view+json": {
       "version_major": 2,
       "version_minor": 0,
       "model_id": "4650fe31c2194992a2e4b171bd07a0eb"
      }
     },
     "metadata": {}
    }
   ],
   "source": [
    "# Add noise to measurements\n",
    "measurement_list_noisy = [comptic.noise.add(measurement, type='gaussian', snr=snr) for measurement, snr in zip(measurement_list, snr_list)]\n",
    "\n",
    "# Show noisy measurements\n",
    "yp.listPlotFlat(measurement_list_noisy)"
   ]
  },
  {
   "cell_type": "markdown",
   "metadata": {},
   "source": [
    "## Generate WOTFs from LED Positions"
   ]
  },
  {
   "cell_type": "code",
   "execution_count": 12,
   "metadata": {
    "ExecuteTime": {
     "end_time": "2020-05-04T02:08:55.480167Z",
     "start_time": "2020-05-04T02:08:55.331666Z"
    }
   },
   "outputs": [
    {
     "output_type": "display_data",
     "data": {
      "text/plain": "Canvas(toolbar=Toolbar(toolitems=[('Home', 'Reset original view', 'home', 'home'), ('Back', 'Back to previous …",
      "application/vnd.jupyter.widget-view+json": {
       "version_major": 2,
       "version_minor": 0,
       "model_id": "383a34a219a54f9ab51a932513b1e119"
      }
     },
     "metadata": {}
    }
   ],
   "source": [
    "# Generate source list\n",
    "source_list = pydpc.genDpcSourceList(object_shape, ['right', 'left', 'top', 'bottom'], **system_parameters)\n",
    "\n",
    "# Generate Hr and Hi from source list\n",
    "Hr_list, Hi_list = pydpc.genWotfsFromSourceList(source_list, **system_parameters)\n",
    "\n",
    "# Show WOTFs\n",
    "yp.listPlotFlat(Hr_list + [yp.imag(Hi) for Hi in Hi_list], source_names + source_names, max_width=4)"
   ]
  },
  {
   "cell_type": "markdown",
   "metadata": {},
   "source": [
    "## Generate WOTFs from Source Position List"
   ]
  },
  {
   "cell_type": "code",
   "execution_count": 13,
   "metadata": {
    "ExecuteTime": {
     "end_time": "2020-05-04T02:09:05.918194Z",
     "start_time": "2020-05-04T02:09:05.395659Z"
    }
   },
   "outputs": [
    {
     "output_type": "display_data",
     "data": {
      "text/plain": "Canvas(toolbar=Toolbar(toolitems=[('Home', 'Reset original view', 'home', 'home'), ('Back', 'Back to previous …",
      "application/vnd.jupyter.widget-view+json": {
       "version_major": 2,
       "version_minor": 0,
       "model_id": "7078a77426784131bb40c4aac4ca0cd0"
      }
     },
     "metadata": {}
    }
   ],
   "source": [
    "# Generate Hr and Hi from source list\n",
    "Hr_list, Hi_list = pydpc.genWotfsFromSourcePositionList(object_shape, dpc_led_pattern_list, **system_parameters)\n",
    "\n",
    "# Show WOTFs\n",
    "yp.listPlotFlat(Hr_list + [yp.imag(Hi) for Hi in Hi_list], source_names + source_names, max_width=4)"
   ]
  },
  {
   "cell_type": "markdown",
   "metadata": {},
   "source": [
    "## Calculate WOTF Support"
   ]
  },
  {
   "cell_type": "code",
   "execution_count": 14,
   "metadata": {
    "ExecuteTime": {
     "end_time": "2020-05-04T02:09:10.197821Z",
     "start_time": "2020-05-04T02:09:10.147025Z"
    }
   },
   "outputs": [
    {
     "output_type": "display_data",
     "data": {
      "text/plain": "Canvas(toolbar=Toolbar(toolitems=[('Home', 'Reset original view', 'home', 'home'), ('Back', 'Back to previous …",
      "application/vnd.jupyter.widget-view+json": {
       "version_major": 2,
       "version_minor": 0,
       "model_id": "9c8bbe40ca9142ccbabeadd41334cc15"
      }
     },
     "metadata": {}
    },
    {
     "output_type": "execute_result",
     "data": {
      "text/plain": "<matplotlib.image.AxesImage at 0x12fa8fd00>"
     },
     "metadata": {},
     "execution_count": 14
    }
   ],
   "source": [
    "# Define mask size\n",
    "minimum_na = 0.05\n",
    "maximum_na = system_parameters['objective_numerical_aperture'] * 1.5\n",
    "\n",
    "# Generate mask\n",
    "support = pydpc.analysis.supportMask(object_shape, min_na=minimum_na, max_na=maximum_na, **system_parameters)\n",
    "\n",
    "# Plot result\n",
    "plt.figure()\n",
    "plt.imshow(support)"
   ]
  },
  {
   "cell_type": "markdown",
   "metadata": {},
   "source": [
    "## Normalize Measurements"
   ]
  },
  {
   "cell_type": "code",
   "execution_count": 15,
   "metadata": {
    "ExecuteTime": {
     "end_time": "2020-05-04T02:09:12.784611Z",
     "start_time": "2020-05-04T02:09:12.754083Z"
    }
   },
   "outputs": [],
   "source": [
    "measurement_list_normalized = [measurement / yp.mean(measurement) - 1.0 for measurement in measurement_list_noisy]"
   ]
  },
  {
   "cell_type": "markdown",
   "metadata": {},
   "source": [
    "## Perform DPC Inversion"
   ]
  },
  {
   "cell_type": "code",
   "execution_count": 16,
   "metadata": {
    "ExecuteTime": {
     "end_time": "2020-05-04T02:09:15.092472Z",
     "start_time": "2020-05-04T02:09:15.009858Z"
    }
   },
   "outputs": [
    {
     "output_type": "display_data",
     "data": {
      "text/plain": "Canvas(toolbar=Toolbar(toolitems=[('Home', 'Reset original view', 'home', 'home'), ('Back', 'Back to previous …",
      "application/vnd.jupyter.widget-view+json": {
       "version_major": 2,
       "version_minor": 0,
       "model_id": "a7ed77a800254c37ac095e1cfc76c6f4"
      }
     },
     "metadata": {}
    },
    {
     "output_type": "execute_result",
     "data": {
      "text/plain": "<matplotlib.image.AxesImage at 0x130e48790>"
     },
     "metadata": {},
     "execution_count": 16
    }
   ],
   "source": [
    "field_recovered = pydpc.invert(measurement_list_normalized, Hr_list, Hi_list, reg_imag=1e-8, reg_real=1e-8)\n",
    "\n",
    "plt.figure()\n",
    "plt.subplot(121)\n",
    "plt.imshow(yp.real(field_recovered))\n",
    "plt.subplot(122)\n",
    "plt.imshow(yp.imag(field_recovered))"
   ]
  },
  {
   "cell_type": "markdown",
   "metadata": {},
   "source": [
    "# Calculate DNF of WOTF patterns"
   ]
  },
  {
   "cell_type": "code",
   "execution_count": 17,
   "metadata": {
    "ExecuteTime": {
     "end_time": "2020-05-04T02:09:19.637140Z",
     "start_time": "2020-05-04T02:09:19.578235Z"
    },
    "tags": []
   },
   "outputs": [
    {
     "output_type": "stream",
     "name": "stdout",
     "text": "1.3430537451128923\n"
    },
    {
     "output_type": "error",
     "ename": "ImportError",
     "evalue": "cannot import name 'wotfsFromSourcePositionList' from 'pydpc' (/Users/zfphil/.conda/lib/python3.8/site-packages/pydpc/__init__.py)",
     "traceback": [
      "\u001b[0;31m---------------------------------------------------------------------------\u001b[0m",
      "\u001b[0;31mImportError\u001b[0m                               Traceback (most recent call last)",
      "\u001b[0;32m<ipython-input-17-a40245b52a50>\u001b[0m in \u001b[0;36m<module>\u001b[0;34m\u001b[0m\n\u001b[1;32m      7\u001b[0m \u001b[0;34m\u001b[0m\u001b[0m\n\u001b[1;32m      8\u001b[0m \u001b[0;31m# Calculate DNF directly from source patterns\u001b[0m\u001b[0;34m\u001b[0m\u001b[0;34m\u001b[0m\u001b[0;34m\u001b[0m\u001b[0m\n\u001b[0;32m----> 9\u001b[0;31m \u001b[0mf\u001b[0m \u001b[0;34m=\u001b[0m \u001b[0mpydpc\u001b[0m\u001b[0;34m.\u001b[0m\u001b[0manalysis\u001b[0m\u001b[0;34m.\u001b[0m\u001b[0mdnfFromSourcePositionList\u001b[0m\u001b[0;34m(\u001b[0m\u001b[0mdpc_led_pattern_list\u001b[0m\u001b[0;34m,\u001b[0m \u001b[0mobject_shape\u001b[0m\u001b[0;34m,\u001b[0m \u001b[0msupport\u001b[0m\u001b[0;34m=\u001b[0m\u001b[0msupport\u001b[0m\u001b[0;34m,\u001b[0m\u001b[0;34m**\u001b[0m\u001b[0msystem_parameters\u001b[0m\u001b[0;34m)\u001b[0m\u001b[0;34m\u001b[0m\u001b[0;34m\u001b[0m\u001b[0m\n\u001b[0m\u001b[1;32m     10\u001b[0m \u001b[0mprint\u001b[0m\u001b[0;34m(\u001b[0m\u001b[0mf\u001b[0m\u001b[0;34m)\u001b[0m\u001b[0;34m\u001b[0m\u001b[0;34m\u001b[0m\u001b[0m\n",
      "\u001b[0;32m~/.conda/lib/python3.8/site-packages/pydpc/analysis.py\u001b[0m in \u001b[0;36mdnfFromSourcePositionList\u001b[0;34m(led_pattern_list, shape, pupil, eps, support, illumination_source_position_list_na, **system_params)\u001b[0m\n\u001b[1;32m    167\u001b[0m \u001b[0;34m\u001b[0m\u001b[0m\n\u001b[1;32m    168\u001b[0m     \u001b[0;31m# Generate Hi and Hr\u001b[0m\u001b[0;34m\u001b[0m\u001b[0;34m\u001b[0m\u001b[0;34m\u001b[0m\u001b[0m\n\u001b[0;32m--> 169\u001b[0;31m     \u001b[0;32mfrom\u001b[0m \u001b[0mpydpc\u001b[0m \u001b[0;32mimport\u001b[0m \u001b[0mwotfsFromSourcePositionList\u001b[0m\u001b[0;34m\u001b[0m\u001b[0;34m\u001b[0m\u001b[0m\n\u001b[0m\u001b[1;32m    170\u001b[0m     \u001b[0mHr_list\u001b[0m\u001b[0;34m,\u001b[0m \u001b[0mHi_list\u001b[0m \u001b[0;34m=\u001b[0m \u001b[0mwotfsFromSourcePositionList\u001b[0m\u001b[0;34m(\u001b[0m\u001b[0mshape\u001b[0m\u001b[0;34m,\u001b[0m \u001b[0mled_pattern_list\u001b[0m\u001b[0;34m,\u001b[0m \u001b[0;34m**\u001b[0m\u001b[0msystem_params\u001b[0m\u001b[0;34m)\u001b[0m\u001b[0;34m\u001b[0m\u001b[0;34m\u001b[0m\u001b[0m\n\u001b[1;32m    171\u001b[0m \u001b[0;34m\u001b[0m\u001b[0m\n",
      "\u001b[0;31mImportError\u001b[0m: cannot import name 'wotfsFromSourcePositionList' from 'pydpc' (/Users/zfphil/.conda/lib/python3.8/site-packages/pydpc/__init__.py)"
     ]
    }
   ],
   "source": [
    "# Calculate singular values and masl\n",
    "sigma_squared = pydpc.analysis.singularValuesFromWotfList(Hr_list, Hi_list, support=support)\n",
    "\n",
    "# Calculate DNF from Hu and Hp\n",
    "f = pydpc.analysis.dnfFromWotfList(Hr_list, Hi_list, support=support)\n",
    "print(f)\n",
    "\n",
    "# Calculate DNF directly from source patterns\n",
    "f = pydpc.analysis.dnfFromSourcePositionList(dpc_led_pattern_list, object_shape, support=support,**system_parameters)\n",
    "print(f)"
   ]
  },
  {
   "cell_type": "markdown",
   "metadata": {},
   "source": [
    "# Check DNF Calculation"
   ]
  },
  {
   "cell_type": "code",
   "execution_count": null,
   "metadata": {
    "ExecuteTime": {
     "end_time": "2019-03-26T16:24:37.842882Z",
     "start_time": "2019-03-26T16:24:37.768826Z"
    }
   },
   "outputs": [],
   "source": [
    "# Generate rasterized sources\n",
    "source_list = pydpc.genDpcSourceList((16,16), source_names, minimum_na=0.15, **system_parameters)\n",
    "\n",
    "# Generate Hr and Hi\n",
    "Hr_list, Hi_list = pydpc.wotfsFromSourceList(source_list, **system_parameters)\n",
    "\n",
    "# Calculate singular values using three different ways\n",
    "sigma_direct = pydpc.analysis.singularValuesFromWotfList(Hr_list, Hi_list)\n",
    "sigma_svd = pydpc.analysis.singularValuesFromWotfList(Hr_list, Hi_list, method='svd')\n",
    "sigma_eig = pydpc.analysis.singularValuesFromWotfList(Hr_list, Hi_list, method='eig')\n",
    "\n",
    "plt.figure()\n",
    "plt.plot(sigma_direct)\n",
    "plt.plot(sigma_svd)\n",
    "plt.plot(sigma_eig)"
   ]
  },
  {
   "cell_type": "markdown",
   "metadata": {},
   "source": [
    "# Check That DNF is Valid for DPC (Linear Model)"
   ]
  },
  {
   "cell_type": "code",
   "execution_count": null,
   "metadata": {
    "ExecuteTime": {
     "end_time": "2019-03-26T16:25:03.425942Z",
     "start_time": "2019-03-26T16:25:02.167228Z"
    },
    "scrolled": true
   },
   "outputs": [],
   "source": [
    "# Generate DPC patterns\n",
    "dpc_pattern_list = pydpc.genDpcSourcePositionList(**system_parameters)\n",
    "\n",
    "# Generate DPC patterns\n",
    "intensity_list = pydpc.genMeasurementsLinear(field, dpc_pattern_list, **system_parameters)\n",
    "\n",
    "# Add measurement noise\n",
    "measurement_snr = 200\n",
    "intensity_list_noisy = [comptic.noise.add(intensity, snr=measurement_snr) for intensity in intensity_list]\n",
    "\n",
    "# Recover field\n",
    "Hr_list, Hi_list = pydpc.wotfsFromSourcePositionList(object_shape, dpc_pattern_list, **system_parameters)\n",
    "field_recovered = pydpc.invert(intensity_list_noisy, Hr_list, Hi_list, reg_real=1e-8, reg_imag=1e-8)\n",
    "\n",
    "# Calculate DNF\n",
    "dnf = pydpc.analysis.dnfFromSourcePositionList(dpc_led_pattern_list, object_shape, **system_parameters)\n",
    "\n",
    "# Calculate SNR for amplitude and phase\n",
    "snr_recovered_amp = yp.mean(yp.real(field_recovered)) / yp.std(yp.real(field_recovered)[:10, :10])\n",
    "snr_recovered_phase = yp.mean(yp.imag(field_recovered)) / yp.std(yp.imag(field_recovered)[:10, :10])\n",
    "\n",
    "print(measurement_snr)\n",
    "print(dnf* snr_recovered_amp)\n",
    "print(dnf * snr_recovered_phase)"
   ]
  },
  {
   "cell_type": "markdown",
   "metadata": {},
   "source": [
    "## Generate Random LED Patterns"
   ]
  },
  {
   "cell_type": "code",
   "execution_count": null,
   "metadata": {
    "ExecuteTime": {
     "end_time": "2019-03-26T16:25:10.511540Z",
     "start_time": "2019-03-26T16:25:09.926224Z"
    }
   },
   "outputs": [],
   "source": [
    "# This supports method = 'grayscale' or 'binary' and pattern_type  = 'full', 'left', 'right', 'top', 'bottom'\n",
    "pattern = pydpc.analysis.genRandomIlluminationPattern(method='binary', pattern_type='right', minimum_numerical_aperture=0, **system_parameters)\n",
    "\n",
    "# Generate four DPC patterns\n",
    "pattern_list = [pydpc.analysis.genRandomIlluminationPattern(method='binary', pattern_type=name, minimum_numerical_aperture=0, **system_parameters) for name in source_names]\n",
    "\n",
    "# Plot LED patterns\n",
    "pydpc.plotSourcePositionList(pattern_list, **system_parameters)\n",
    "\n",
    "# Plot WOTFs\n",
    "Hr_list, Hi_list = pydpc.wotfsFromSourcePositionList(object_shape, pattern_list, **system_parameters)\n",
    "\n",
    "# Show WOTFs\n",
    "pydpc.plotWotfList(Hr_list, Hi_list)"
   ]
  },
  {
   "cell_type": "markdown",
   "metadata": {},
   "source": [
    "# Perform Source Optimization Using Random Search\n",
    "Not that interesting..."
   ]
  },
  {
   "cell_type": "code",
   "execution_count": null,
   "metadata": {
    "ExecuteTime": {
     "end_time": "2019-03-25T20:59:49.807167Z",
     "start_time": "2019-03-25T20:59:49.772415Z"
    }
   },
   "outputs": [],
   "source": [
    "# # Define mask size\n",
    "# minimum_na = 0.05\n",
    "# maximum_na = system_parameters['objective_numerical_aperture'] * 1.5\n",
    "\n",
    "# f, pattern = analysis.optimizeSourceRandom((50,50), iteraton_count=100, minimum_na=minimum_na, maximum_na=maximum_na, gamma=2, **system_parameters)\n",
    "# analysis.plotLedPatternList(pattern, **system_parameters)\n",
    "# print(f)"
   ]
  },
  {
   "cell_type": "markdown",
   "metadata": {},
   "source": [
    "# Sweep Inner NA and Calculate Expected SNR"
   ]
  },
  {
   "cell_type": "code",
   "execution_count": null,
   "metadata": {
    "ExecuteTime": {
     "end_time": "2019-03-26T16:31:18.626794Z",
     "start_time": "2019-03-26T16:30:47.973063Z"
    }
   },
   "outputs": [],
   "source": [
    "# Calculate support\n",
    "support = pydpc.analysis.supportMask(object_shape, min_na=0.01, max_na=0.25, **system_parameters)\n",
    "\n",
    "# Source Illuminance\n",
    "per_led_illuminance = 1000\n",
    "\n",
    "# Camera exposure time\n",
    "exposure_time = 1e-4\n",
    "\n",
    "# Define range to sweep inner NA\n",
    "inner_na_sweep = list(np.arange(0, 0.25, 0.01))\n",
    "illuminance_sweep = list(range(1, 4000, 100))\n",
    "\n",
    "# Generate DPC Types\n",
    "dpc_type_list = ['top', 'bottom', 'left', 'right']\n",
    "\n",
    "# Calculate expected SNR for each source\n",
    "snr_list_na = []\n",
    "for per_led_illuminance in yp.display.progressBar(illuminance_sweep, name='Illumination Intensity Value'):\n",
    "    _snr_list = []\n",
    "    for inner_na in inner_na_sweep:\n",
    "        # Generate rasterized sources\n",
    "        source_list = pydpc.genDpcSourceList(object_shape, dpc_type_list, illumination_inner_na=inner_na, **system_parameters)\n",
    "\n",
    "        # Calculate SNR\n",
    "        snr = pydpc.analysis.calcSnrFromDpcSourceList(source_list, exposure_time=exposure_time, support=support, per_led_illuminance=per_led_illuminance, **system_parameters)\n",
    "\n",
    "        # Append\n",
    "        _snr_list.append(snr)\n",
    "    snr_list_na.append(_snr_list)"
   ]
  },
  {
   "cell_type": "markdown",
   "metadata": {},
   "source": [
    "## Generate Figure"
   ]
  },
  {
   "cell_type": "code",
   "execution_count": null,
   "metadata": {
    "ExecuteTime": {
     "end_time": "2019-03-26T16:31:29.915991Z",
     "start_time": "2019-03-26T16:31:28.305955Z"
    }
   },
   "outputs": [],
   "source": [
    "# Highlight best width\n",
    "spline_tuples = []\n",
    "for illuminance_index, _snr in enumerate(snr_list_na):\n",
    "    na_index = yp.argmax(_snr)[0]\n",
    "    spline_tuples.append((illuminance_sweep[illuminance_index],\n",
    "                         inner_na_sweep[na_index]))\n",
    "    \n",
    "\n",
    "nodes = np.asarray(spline_tuples)[0:-1:1]\n",
    "fs = 20\n",
    "x = nodes[:,1]\n",
    "y = nodes[:,0]\n",
    "\n",
    "tck,u     = interpolate.splprep( [x,y] ,s = 0 )\n",
    "xnew,ynew = interpolate.splev( np.linspace( 0, 1, 100 ), tck,der = 0)\n",
    "\n",
    "plt.style.reload_library()\n",
    "with plt.style.context('publication'):\n",
    "    # Make figures\n",
    "    plt.figure(figsize=(8, 12))\n",
    "    plt.subplot(211)\n",
    "    plt.imshow(snr_list_na, extent=[min(inner_na_sweep), max(inner_na_sweep), min(illuminance_sweep), max(illuminance_sweep)], cmap='viridis')\n",
    "    plt.plot(xnew ,ynew , linewidth=3, c='w')\n",
    "    plt.axis('tight')\n",
    "    plt.xlabel('Inner NA Cutoff', fontsize=fs)\n",
    "    plt.ylabel('Illuminance', fontsize=fs)\n",
    "    plt.tight_layout()\n",
    "    plt.xlim((min(inner_na_sweep), max(inner_na_sweep)))\n",
    "    plt.ylim((min(illuminance_sweep), max(illuminance_sweep)))\n",
    "\n",
    "    index_1 = 3\n",
    "    index_2 = -11\n",
    "    index_3 = -2\n",
    "    \n",
    "    plt.gca().tick_params(axis='both', which='major', labelsize=fs)\n",
    "    plt.gca().tick_params(axis='both', which='minor', labelsize=fs)\n",
    "\n",
    "    plt.subplot(212)\n",
    "    plt.plot(inner_na_sweep, snr_list_na[index_1], label='%d lux' % (illuminance_sweep[index_1] - 1), linewidth=3)\n",
    "    plt.plot(inner_na_sweep, snr_list_na[index_2], label='%d lux' % (illuminance_sweep[index_2] - 1), linewidth=3)\n",
    "    plt.plot(inner_na_sweep, snr_list_na[index_3], label='%d lux' % (illuminance_sweep[index_3] - 1), linewidth=3)\n",
    "    \n",
    "    # Show maximum \n",
    "    max_index_1 = np.argmax(snr_list_na[index_1])\n",
    "    max_index_2 = np.argmax(snr_list_na[index_2])\n",
    "    max_index_3 = np.argmax(snr_list_na[index_3])\n",
    "    \n",
    "    plt.plot([inner_na_sweep[max_index_1]], [snr_list_na[index_1][max_index_1]], 'bD', markersize=10)\n",
    "    plt.plot([inner_na_sweep[max_index_2]], [snr_list_na[index_2][max_index_2]], 'gD', markersize=10)\n",
    "    plt.plot([inner_na_sweep[max_index_3]], [snr_list_na[index_3][max_index_3]], 'rD', markersize=10)\n",
    "    \n",
    "    plt.legend(loc='upper right', fontsize=fs)\n",
    "    plt.xlabel('Inner NA Cutoff', fontsize=fs)\n",
    "    plt.ylabel('Predicted SNR', fontsize=fs)\n",
    "    plt.ylim((0, 35))\n",
    "    \n",
    "    plt.gca().tick_params(axis='both', which='major', labelsize=fs)\n",
    "    plt.gca().tick_params(axis='both', which='minor', labelsize=fs)\n",
    "    \n",
    "    plt.tight_layout()\n",
    "    \n",
    "    # Save figure\n",
    "    plt.savefig(os.path.join(output_dir, 'inner_na_vs_illuminance.pdf'))"
   ]
  },
  {
   "cell_type": "markdown",
   "metadata": {},
   "source": [
    "## Save Avatars for Figure"
   ]
  },
  {
   "cell_type": "code",
   "execution_count": null,
   "metadata": {
    "ExecuteTime": {
     "end_time": "2019-03-26T16:31:36.598356Z",
     "start_time": "2019-03-26T16:31:32.153393Z"
    }
   },
   "outputs": [],
   "source": [
    "dpc_pattern_designs_2 = ['top', 'left']\n",
    "dpc_pattern_designs = [('half', 'half', 'half', 'half', 'half', 'half')]\n",
    "dpc_angles = np.arange(0,360, 360/6)\n",
    "\n",
    "import copy\n",
    "system_parameters_2 = copy.deepcopy(system_parameters)\n",
    "system_parameters_2['system_magnification'] = 1\n",
    "\n",
    "with plt.style.context('deblur'):\n",
    "    plt.figure(figsize=(5,5))\n",
    "    for dpc_pattern in dpc_pattern_designs_2:\n",
    "        source = pydpc.genDpcSourceList(object_shape, dpc_pattern, illumination_inner_na=0, **system_parameters_2)\n",
    "        plt.clf()\n",
    "        plt.imshow(source)\n",
    "        plt.axis('off')\n",
    "        plt.tight_layout()\n",
    "        plt.savefig(os.path.join(output_dir, 'measurement_count_pattern_%s.pdf' % dpc_pattern))\n",
    "\n",
    "    for angle in dpc_angles:\n",
    "        source = pydpc.genDpcSourceList(object_shape, 'half', angle=angle, illumination_inner_na=0, **system_parameters_2)\n",
    "        plt.clf()\n",
    "        plt.imshow(source)\n",
    "        plt.axis('off')\n",
    "        plt.tight_layout()\n",
    "        plt.savefig(os.path.join(output_dir, 'angle_%d.pdf' % angle))"
   ]
  },
  {
   "cell_type": "markdown",
   "metadata": {},
   "source": [
    "# Sweep Number of Measurements"
   ]
  },
  {
   "cell_type": "code",
   "execution_count": null,
   "metadata": {
    "ExecuteTime": {
     "end_time": "2019-03-25T21:01:30.816051Z",
     "start_time": "2019-03-25T21:01:30.728390Z"
    }
   },
   "outputs": [],
   "source": [
    "n = 3\n",
    "angle_list = np.arange(0, 360, 360 / n)\n",
    "\n",
    "source_list = []\n",
    "for angle in angle_list:\n",
    "    source_list += [pydpc.genDpcSourceList(object_shape, 'half', angle=angle, minimum_na=0, **system_parameters)]\n",
    "\n",
    "# Compute SNR\n",
    "snr = pydpc.analysis.calcSnrFromDpcSourceList(source_list, exposure_time=exposure_time, support=support, per_led_illuminance=1000, **system_parameters)\n",
    "\n",
    "# print(snr)\n",
    "\n",
    "dnf = pydpc.analysis.dnfFromSourceList(source_list, **system_parameters, support=support, eps=1e-5)\n",
    "print(dnf)"
   ]
  },
  {
   "cell_type": "code",
   "execution_count": null,
   "metadata": {
    "ExecuteTime": {
     "end_time": "2019-03-25T21:01:54.437834Z",
     "start_time": "2019-03-25T21:01:45.116867Z"
    }
   },
   "outputs": [],
   "source": [
    "# Calculate support\n",
    "support = pydpc.analysis.supportMask(object_shape, min_na=0.01, max_na=0.25, **system_parameters)\n",
    "\n",
    "# Source Illuminance\n",
    "per_led_illuminance = 1000\n",
    "\n",
    "# Camera exposure time\n",
    "exposure_time = 1e-4\n",
    "\n",
    "# Define range to sweep inner NA\n",
    "inner_na_sweep = list(np.arange(0, 0.25, 0.01))\n",
    "measurement_count_sweep = list(range(1, 8))\n",
    "\n",
    "dpc_type_list = ['top', 'bottom', 'left', 'right']\n",
    "# dpc_type_list = [0, 90, 180]\n",
    "# Calculate expected SNR for each source\n",
    "snr_list, dnf_list = [], []\n",
    "for per_led_illuminance in yp.display.progressBar(illuminance_sweep):\n",
    "    _snr_list = []\n",
    "    for measurement_count in measurement_count_sweep:\n",
    "        \n",
    "        # Instantiate source list\n",
    "        source_list = []\n",
    "        \n",
    "        # Generate list of angles\n",
    "        angle_list = np.arange(0, 360, 360 / measurement_count)\n",
    "        \n",
    "        # Generate sources\n",
    "        for angle in angle_list:\n",
    "            source_list += [pydpc.genDpcSourceList(object_shape, ['half'], angle=angle, minimum_na=0, **system_parameters)]\n",
    "            \n",
    "        # Ensure all sources have been generated\n",
    "        assert len(source_list) == measurement_count\n",
    "        \n",
    "        # Calculate SNR\n",
    "        snr = pydpc.analysis.calcSnrFromDpcSourceList(source_list, exposure_time=exposure_time, support=support, per_led_illuminance=per_led_illuminance, **system_parameters)\n",
    "\n",
    "        # Append\n",
    "        _snr_list.append(snr)\n",
    "    snr_list.append(_snr_list)"
   ]
  },
  {
   "cell_type": "markdown",
   "metadata": {},
   "source": [
    "## Generate Figure"
   ]
  },
  {
   "cell_type": "code",
   "execution_count": null,
   "metadata": {
    "ExecuteTime": {
     "end_time": "2019-03-25T21:58:57.258122Z",
     "start_time": "2019-03-25T21:58:55.576105Z"
    }
   },
   "outputs": [],
   "source": [
    "# Highlight best width\n",
    "spline_tuples = []\n",
    "for illuminance_index, _snr in enumerate(snr_list):\n",
    "    na_index = yp.argmax(_snr)[0]\n",
    "    spline_tuples.append((illuminance_sweep[illuminance_index],\n",
    "                         measurement_count_sweep[na_index]))\n",
    "    \n",
    "    \n",
    "nodes = np.asarray(spline_tuples)[0:-1:1]\n",
    "fs = 20\n",
    "x = nodes[:,1]\n",
    "y = nodes[:,0]\n",
    "\n",
    "tck,u     = interpolate.splprep( [x,y] ,s = 0 )\n",
    "xnew,ynew = interpolate.splev( np.linspace( 0, 1, 100 ), tck,der = 0)\n",
    "\n",
    "plt.style.reload_library()\n",
    "with plt.style.context('publication'):\n",
    "    # Make figures\n",
    "    plt.figure(figsize=(8,12))\n",
    "    plt.subplot(211)\n",
    "    plt.imshow(snr_list, extent=[min(measurement_count_sweep), max(measurement_count_sweep), min(illuminance_sweep), max(illuminance_sweep)], cmap='viridis')\n",
    "    plt.plot(xnew ,ynew , linewidth=3, c='k')\n",
    "    plt.axis('tight')\n",
    "    plt.xlabel('Measurement Count', fontsize=fs)\n",
    "    plt.ylabel('Illuminance', fontsize=fs)\n",
    "    plt.tight_layout()\n",
    "    plt.xlim((min(measurement_count_sweep), max(measurement_count_sweep)))\n",
    "    plt.ylim((min(illuminance_sweep), max(illuminance_sweep)))\n",
    "\n",
    "    index_1 = 3\n",
    "    index_2 = -11\n",
    "    index_3 = -2\n",
    "    \n",
    "    plt.gca().tick_params(axis='both', which='major', labelsize=fs)\n",
    "    plt.gca().tick_params(axis='both', which='minor', labelsize=fs)\n",
    "\n",
    "    plt.subplot(212)\n",
    "    plt.plot(measurement_count_sweep, snr_list[index_1], label='%d lux' % (illuminance_sweep[index_1] - 1), linewidth=3)\n",
    "    plt.plot([] + measurement_count_sweep, [] + (snr_list[index_1][-1] * np.sqrt(measurement_count_sweep)  / np.sqrt(measurement_count_sweep)[-1]).tolist(), 'b--', \n",
    "             label=None, linewidth=1) # '$\\sqrt{\\cdot}$ fit, %d Lux' % (illuminance_sweep[index_1] - 1)\n",
    "    \n",
    "    plt.plot(measurement_count_sweep, snr_list[index_2], label='%d lux' % (illuminance_sweep[index_2] - 1), linewidth=3)\n",
    "    plt.plot([] + measurement_count_sweep, [] + (snr_list[index_2][-1] * np.sqrt(measurement_count_sweep)  / np.sqrt(measurement_count_sweep)[-1]).tolist(), 'g--', \n",
    "         label=None, linewidth=1) # '$\\sqrt{\\cdot}$ fit, %d Lux' % (illuminance_sweep[index_2] - 1)\n",
    "    \n",
    "    plt.plot(measurement_count_sweep, snr_list[index_3], label='%d lux' % (illuminance_sweep[index_3] - 1), linewidth=3)\n",
    "    plt.plot([] + measurement_count_sweep, [] + (snr_list[index_3][-1] * np.sqrt(measurement_count_sweep)  / np.sqrt(measurement_count_sweep)[-1]).tolist(), 'r--', \n",
    "         label=None, linewidth=1) # '$\\sqrt{\\cdot}$ fit, %d Lux' % (illuminance_sweep[index_2] - 1)\n",
    "    \n",
    "    plt.legend(loc='upper left', fontsize=fs)\n",
    "    plt.xlabel('Measurement Count', fontsize=fs)\n",
    "    plt.ylabel('Predicted SNR', fontsize=fs)\n",
    "    plt.tight_layout()\n",
    "    plt.xlim((1,max(measurement_count_sweep)))\n",
    "    plt.ylim((0, 25))\n",
    "    \n",
    "    plt.gca().tick_params(axis='both', which='major', labelsize=fs)\n",
    "    plt.gca().tick_params(axis='both', which='minor', labelsize=fs)\n",
    "    # Save figure\n",
    "    plt.savefig(os.path.join(output_dir, 'measurement_count_vs_illuminance.pdf'))"
   ]
  },
  {
   "cell_type": "markdown",
   "metadata": {},
   "source": [
    "## Generate Transfer Functions for Figure"
   ]
  },
  {
   "cell_type": "code",
   "execution_count": null,
   "metadata": {
    "ExecuteTime": {
     "end_time": "2019-03-26T17:02:53.490307Z",
     "start_time": "2019-03-26T17:02:53.406181Z"
    }
   },
   "outputs": [],
   "source": [
    "dpc_inner_na = [0.01, 0.05, 0.1, 0.15, 0.2, 0.24]\n",
    "\n",
    "pupil = comptic.imaging.pupil(object_shape, **system_parameters)\n",
    "\n",
    "plots = []\n",
    "for inner_na in dpc_inner_na:\n",
    "    source = [pydpc.genDpcSourceList(object_shape, 'left', illumination_inner_na=inner_na, **system_parameters)]\n",
    "    Hr, Hi = pydpc.wotfsFromSourceList(source, pupil, **system_parameters_2)\n",
    "    \n",
    "    # Generate Cutlines\n",
    "    cutline_Hr = np.real(Hr[object_shape[0] // 2, :]).copy()\n",
    "    cutline_Hr /= np.max(cutline_Hr)\n",
    "    cutline_Hi = np.imag(Hi[object_shape[0] // 2, :]).copy()\n",
    "    cutline_Hi /= np.max(cutline_Hr)\n",
    "    \n",
    "    plots.append((source[0], Hr, cutline_Hr, Hi, cutline_Hi))"
   ]
  },
  {
   "cell_type": "code",
   "execution_count": null,
   "metadata": {
    "ExecuteTime": {
     "end_time": "2019-03-26T17:33:28.925692Z",
     "start_time": "2019-03-26T17:33:15.383639Z"
    }
   },
   "outputs": [],
   "source": [
    "with plt.style.context('deblur'):\n",
    "    plt.figure(figsize=(5,5))\n",
    "\n",
    "    for inner_na, plot_list in zip(dpc_inner_na, plots):\n",
    "\n",
    "        # Plot source\n",
    "        plt.clf()\n",
    "        plt.imshow(np.abs(plot_list[0]))\n",
    "        plt.axis('off')\n",
    "        plt.tight_layout()\n",
    "        plt.savefig(os.path.join(output_dir, 'inner_na_transfer_func_source_%.2f.pdf' % inner_na))\n",
    "\n",
    "        # Plot Hr\n",
    "        plt.clf()\n",
    "        plt.imshow(np.real(plot_list[1]))\n",
    "        plt.axis('off')\n",
    "        plt.tight_layout()\n",
    "        plt.savefig(os.path.join(output_dir, 'inner_na_transfer_func_hr_%.2f.pdf' % inner_na))\n",
    "\n",
    "        # Plot Hi\n",
    "        plt.clf()\n",
    "        plt.imshow(np.imag(plot_list[3]))\n",
    "        plt.axis('off')\n",
    "        plt.tight_layout()\n",
    "        plt.savefig(os.path.join(output_dir, 'inner_na_transfer_func_hi_%.2f.pdf' % inner_na))\n",
    "\n",
    "\n",
    "    plt.figure(figsize=(5,1.5))\n",
    "    # Cutline plots\n",
    "    for inner_na, plot_list in zip(dpc_inner_na, plots):\n",
    "\n",
    "        # Plot Hr cutline\n",
    "        plt.clf()\n",
    "        plt.plot((plot_list[2]), 'r', linewidth=5)\n",
    "        plt.gca().set_xticks([])\n",
    "        plt.gca().set_yticks([0, 0.5, 1])\n",
    "        plt.xlim(0, len(plot_list[2]))\n",
    "        plt.gca().tick_params(axis='both', which='major', labelsize=24)\n",
    "        plt.gca().tick_params(axis='both', which='minor', labelsize=24)\n",
    "#         plt.tight_layout()\n",
    "        plt.savefig(os.path.join(output_dir, 'inner_na_transfer_func_hr_cutline_%.2f.pdf' % inner_na))\n",
    "\n",
    "        # Plot Hi cutline\n",
    "        plt.clf()\n",
    "        plt.plot((plot_list[4]), 'b', linewidth=5)\n",
    "        plt.gca().set_xticks([])\n",
    "        plt.gca().set_yticks([-1, 0, 1])\n",
    "        plt.xlim(0, len(plot_list[4]))\n",
    "        plt.gca().tick_params(axis='both', which='major', labelsize=24)\n",
    "        plt.gca().tick_params(axis='both', which='minor', labelsize=24)\n",
    "#         plt.tight_layout()\n",
    "        plt.savefig(os.path.join(output_dir, 'inner_na_transfer_func_hi_cutline_%.2f.pdf' % inner_na))"
   ]
  },
  {
   "cell_type": "markdown",
   "metadata": {},
   "source": [
    "## Save DPC Avatars for Figure"
   ]
  },
  {
   "cell_type": "code",
   "execution_count": null,
   "metadata": {
    "ExecuteTime": {
     "end_time": "2019-03-25T21:33:14.823432Z",
     "start_time": "2019-03-25T21:33:13.284523Z"
    }
   },
   "outputs": [],
   "source": [
    "dpc_inner_na = [0.05, 0.20]\n",
    "\n",
    "import copy\n",
    "system_parameters_2 = copy.deepcopy(system_parameters)\n",
    "system_parameters_2['system_magnification'] = 1\n",
    "for inner_na in dpc_inner_na:\n",
    "    source = pydpc.genDpcSourceList(object_shape, 'left', illumination_inner_na=inner_na, **system_parameters_2)\n",
    "    \n",
    "    with plt.style.context('deblur'):\n",
    "        plt.figure(figsize=(5,5))\n",
    "        plt.imshow(source)\n",
    "        plt.axis('off')\n",
    "        plt.tight_layout()\n",
    "        plt.savefig(os.path.join(output_dir, 'inner_na_%.2f.pdf' % inner_na))"
   ]
  },
  {
   "cell_type": "code",
   "execution_count": null,
   "metadata": {},
   "outputs": [],
   "source": []
  }
 ],
 "metadata": {
  "kernelspec": {
   "display_name": "Python 3",
   "language": "python",
   "name": "python3"
  },
  "language_info": {
   "codemirror_mode": {
    "name": "ipython",
    "version": 3
   },
   "file_extension": ".py",
   "mimetype": "text/x-python",
   "name": "python",
   "nbconvert_exporter": "python",
   "pygments_lexer": "ipython3",
   "version": "3.8.3-final"
  },
  "latex_envs": {
   "LaTeX_envs_menu_present": true,
   "autocomplete": true,
   "bibliofile": "biblio.bib",
   "cite_by": "apalike",
   "current_citInitial": 1,
   "eqLabelWithNumbers": true,
   "eqNumInitial": 1,
   "hotkeys": {
    "equation": "Ctrl-E",
    "itemize": "Ctrl-I"
   },
   "labels_anchors": false,
   "latex_user_defs": false,
   "report_style_numbering": false,
   "user_envs_cfg": false
  }
 },
 "nbformat": 4,
 "nbformat_minor": 2
}