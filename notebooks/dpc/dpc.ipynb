{
 "cells": [
  {
   "cell_type": "code",
   "execution_count": 8,
   "metadata": {
    "ExecuteTime": {
     "end_time": "2020-05-04T02:05:32.649509Z",
     "start_time": "2020-05-04T02:05:32.606102Z"
    },
    "tags": []
   },
   "outputs": [
    {
     "output_type": "stream",
     "name": "stdout",
     "text": "The autoreload extension is already loaded. To reload it, use:\n  %reload_ext autoreload\n"
    }
   ],
   "source": [
    "%matplotlib widget\n",
    "%load_ext autoreload\n",
    "%autoreload 2\n",
    "\n",
    "import numpy as np\n",
    "import matplotlib.pyplot as plt\n",
    "from numpy.linalg import svd\n",
    "from scipy import interpolate \n",
    "import os\n",
    "\n",
    "# llops imports\n",
    "import llops as yp\n",
    "import llops.simulation as sim\n",
    "\n",
    "# Comptic imports\n",
    "import comptic\n",
    "\n",
    "# Set backend and dtype for llops\n",
    "yp.setDefaultBackend('numpy')\n",
    "yp.setDefaultDatatype('float32')\n",
    "\n",
    "# Directory to save figures\n",
    "output_dir = os.path.expanduser('~/Desktop')"
   ]
  },
  {
   "cell_type": "markdown",
   "metadata": {},
   "source": [
    "# Define Object"
   ]
  },
  {
   "cell_type": "code",
   "execution_count": 9,
   "metadata": {
    "ExecuteTime": {
     "end_time": "2020-05-04T02:05:34.332256Z",
     "start_time": "2020-05-04T02:05:33.868940Z"
    }
   },
   "outputs": [
    {
     "output_type": "display_data",
     "data": {
      "text/plain": "Canvas(toolbar=Toolbar(toolitems=[('Home', 'Reset original view', 'home', 'home'), ('Back', 'Back to previous …",
      "application/vnd.jupyter.widget-view+json": {
       "version_major": 2,
       "version_minor": 0,
       "model_id": "f189268330034bfd9c7eac6f01d9277e"
      }
     },
     "metadata": {}
    }
   ],
   "source": [
    "# Define object shape\n",
    "object_shape = (256, 256)\n",
    "# Define complex object (field)\n",
    "field = sim.ucb(object_shape)\n",
    "\n",
    "# Get amplitude and phase\n",
    "amp, phase = np.abs(field), np.angle(field)\n",
    "\n",
    "# Plot\n",
    "plt.figure()\n",
    "plt.subplot(121)\n",
    "plt.imshow(np.abs(field), cmap = 'gray')\n",
    "plt.title('Absorption')\n",
    "plt.colorbar()\n",
    "plt.subplot(122)\n",
    "plt.imshow(np.angle(field), cmap = 'gray')\n",
    "plt.title('Phase')\n",
    "plt.colorbar()\n",
    "plt.tight_layout()"
   ]
  },
  {
   "cell_type": "markdown",
   "metadata": {},
   "source": [
    "## Get System Parameters "
   ]
  },
  {
   "cell_type": "code",
   "execution_count": 10,
   "metadata": {
    "ExecuteTime": {
     "end_time": "2020-05-04T02:05:42.301635Z",
     "start_time": "2020-05-04T02:05:42.270918Z"
    }
   },
   "outputs": [],
   "source": [
    "led_positions = comptic.ledarray.getPositionsNa('quasi-dome')\n",
    "\n",
    "# Get remaining system parameters\n",
    "system_parameters = comptic.dpc.getDefaultSystemParams(system_magnification=2,\n",
    "                                             illumination_source_position_list_na=led_positions)"
   ]
  },
  {
   "cell_type": "markdown",
   "metadata": {},
   "source": [
    "# Defining a Source Using LED Positions"
   ]
  },
  {
   "cell_type": "markdown",
   "metadata": {},
   "source": [
    "## Generate DPC Source Positions"
   ]
  },
  {
   "cell_type": "code",
   "execution_count": 23,
   "metadata": {
    "ExecuteTime": {
     "end_time": "2020-05-04T02:05:44.464773Z",
     "start_time": "2020-05-04T02:05:44.364912Z"
    }
   },
   "outputs": [
    {
     "output_type": "display_data",
     "data": {
      "text/plain": "Canvas(toolbar=Toolbar(toolitems=[('Home', 'Reset original view', 'home', 'home'), ('Back', 'Back to previous …",
      "application/vnd.jupyter.widget-view+json": {
       "version_major": 2,
       "version_minor": 0,
       "model_id": "118a69e222374da8bdba8ee04a7dd7a8"
      }
     },
     "metadata": {}
    }
   ],
   "source": [
    "# Generate LED patterns\n",
    "source_names = ['Right', 'Left', 'Top', 'Bottom']\n",
    "dpc_led_pattern_list = comptic.dpc.genDpcSourcePositionList(dpc_type_list=source_names, **system_parameters)\n",
    "\n",
    "# Show patterns\n",
    "comptic.dpc.plotSourcePositionList(dpc_led_pattern_list, labels=source_names, **system_parameters)"
   ]
  },
  {
   "cell_type": "markdown",
   "metadata": {},
   "source": [
    "## Show WOTFs"
   ]
  },
  {
   "cell_type": "code",
   "execution_count": 24,
   "metadata": {
    "ExecuteTime": {
     "end_time": "2020-05-04T02:05:46.663348Z",
     "start_time": "2020-05-04T02:05:46.052406Z"
    }
   },
   "outputs": [
    {
     "output_type": "display_data",
     "data": {
      "text/plain": "Canvas(toolbar=Toolbar(toolitems=[('Home', 'Reset original view', 'home', 'home'), ('Back', 'Back to previous …",
      "application/vnd.jupyter.widget-view+json": {
       "version_major": 2,
       "version_minor": 0,
       "model_id": "e8b5a6a62c684d3ca31045b497fbeb4c"
      }
     },
     "metadata": {}
    }
   ],
   "source": [
    "# Generate corresponding WOTFs\n",
    "Hr_list, Hi_list = comptic.dpc.genWotfsFromSourcePositionList(object_shape, dpc_led_pattern_list, **system_parameters )\n",
    "\n",
    "# Show WOTFs\n",
    "comptic.dpc.plotWotfList(Hr_list, Hi_list, labels=source_names)"
   ]
  },
  {
   "cell_type": "markdown",
   "metadata": {},
   "source": [
    "## Generate Nonlinear Measurements from Source Positions"
   ]
  },
  {
   "cell_type": "code",
   "execution_count": 27,
   "metadata": {
    "ExecuteTime": {
     "end_time": "2020-05-04T02:05:53.639331Z",
     "start_time": "2020-05-04T02:05:52.981906Z"
    }
   },
   "outputs": [
    {
     "output_type": "display_data",
     "data": {
      "text/plain": "Canvas(toolbar=Toolbar(toolitems=[('Home', 'Reset original view', 'home', 'home'), ('Back', 'Back to previous …",
      "application/vnd.jupyter.widget-view+json": {
       "version_major": 2,
       "version_minor": 0,
       "model_id": "15181c716c324bee8083af55169546da"
      }
     },
     "metadata": {}
    }
   ],
   "source": [
    "# Generate Intensities\n",
    "measurement_list_nonlinear = [comptic.dpc.genMeasurementNonLinear(field, dpc_pattern, **system_parameters) for dpc_pattern in dpc_led_pattern_list]\n",
    "\n",
    "# Show result\n",
    "yp.listPlotFlat(measurement_list_nonlinear, source_names)"
   ]
  },
  {
   "cell_type": "markdown",
   "metadata": {},
   "source": [
    "## Generate Linear Measurements from Source Positions"
   ]
  },
  {
   "cell_type": "code",
   "execution_count": 28,
   "metadata": {
    "ExecuteTime": {
     "end_time": "2020-05-04T02:05:59.577706Z",
     "start_time": "2020-05-04T02:05:59.062301Z"
    }
   },
   "outputs": [
    {
     "output_type": "display_data",
     "data": {
      "text/plain": "Canvas(toolbar=Toolbar(toolitems=[('Home', 'Reset original view', 'home', 'home'), ('Back', 'Back to previous …",
      "application/vnd.jupyter.widget-view+json": {
       "version_major": 2,
       "version_minor": 0,
       "model_id": "d6c33ef2f73a4dc88341f7c01f1fe92b"
      }
     },
     "metadata": {}
    }
   ],
   "source": [
    "## Generate DPC patterns\n",
    "measurement_list_linear = comptic.dpc.genMeasurementsLinear(field, dpc_led_pattern_list, **system_parameters)\n",
    "\n",
    "# Print intensity\n",
    "yp.listPlotFlat(measurement_list_linear, source_names)"
   ]
  },
  {
   "cell_type": "markdown",
   "metadata": {},
   "source": [
    "# Using a Continuous Source"
   ]
  },
  {
   "cell_type": "code",
   "execution_count": 8,
   "metadata": {
    "ExecuteTime": {
     "end_time": "2020-05-04T02:08:34.946463Z",
     "start_time": "2020-05-04T02:08:34.870307Z"
    }
   },
   "outputs": [
    {
     "output_type": "display_data",
     "data": {
      "text/plain": "Canvas(toolbar=Toolbar(toolitems=[('Home', 'Reset original view', 'home', 'home'), ('Back', 'Back to previous …",
      "application/vnd.jupyter.widget-view+json": {
       "version_major": 2,
       "version_minor": 0,
       "model_id": "8d7b862d4c4744359fa5afcd4b23e585"
      }
     },
     "metadata": {}
    }
   ],
   "source": [
    "# Generate LED patterns\n",
    "source_names = ['Right', 'Left', 'Top', 'Bottom']\n",
    "dpc_source_list_continuous = comptic.dpc.genDpcSourceList(object_shape, dpc_type_list=source_names, **system_parameters)\n",
    "\n",
    "# Show patterns\n",
    "yp.listPlotFlat(dpc_source_list_continuous, source_names)"
   ]
  },
  {
   "cell_type": "markdown",
   "metadata": {},
   "source": [
    "## Generate WOTFs"
   ]
  },
  {
   "cell_type": "code",
   "execution_count": 9,
   "metadata": {
    "ExecuteTime": {
     "end_time": "2020-05-04T02:08:35.863668Z",
     "start_time": "2020-05-04T02:08:35.717346Z"
    }
   },
   "outputs": [
    {
     "output_type": "display_data",
     "data": {
      "text/plain": "Canvas(toolbar=Toolbar(toolitems=[('Home', 'Reset original view', 'home', 'home'), ('Back', 'Back to previous …",
      "application/vnd.jupyter.widget-view+json": {
       "version_major": 2,
       "version_minor": 0,
       "model_id": "7e8c63b75528473da579ffc28c1a2d51"
      }
     },
     "metadata": {}
    }
   ],
   "source": [
    "# Generate corresponding WOTFs\n",
    "Hr_list, Hi_list = comptic.dpc.genWotfsFromSourceList(dpc_source_list_continuous, **system_parameters )\n",
    "\n",
    "# Show WOTFs\n",
    "comptic.dpc.plotWotfList(Hr_list, Hi_list, labels=source_names)"
   ]
  },
  {
   "cell_type": "markdown",
   "metadata": {},
   "source": [
    "# Calculate Estimated SNR of Measurements"
   ]
  },
  {
   "cell_type": "code",
   "execution_count": 13,
   "metadata": {
    "ExecuteTime": {
     "end_time": "2020-05-04T02:08:39.730139Z",
     "start_time": "2020-05-04T02:08:39.699230Z"
    },
    "tags": []
   },
   "outputs": [
    {
     "output_type": "stream",
     "name": "stdout",
     "text": "[42.72295819834926, 42.72295819834926, 42.72295819834926, 42.72295819834926]\n"
    }
   ],
   "source": [
    "# Define illuminance at sample per LED\n",
    "per_led_illuminance = 1000\n",
    "\n",
    "# Determine total illuminance for each pattern\n",
    "total_pattern_illuminance = [per_led_illuminance * yp.sum(dpc_pattern) for dpc_pattern in dpc_led_pattern_list]\n",
    "\n",
    "# Determine photon pixel rate\n",
    "photon_pixel_rate_list = [comptic.dpc.analysis.illuminanceToPhotonPixelRate(illuminance, **system_parameters) for illuminance in total_pattern_illuminance]\n",
    "\n",
    "# Define Exposure time\n",
    "exposure_time = 0.001\n",
    "\n",
    "# Determine measurement SNR\n",
    "snr_list = [comptic.dpc.analysis.photonPixelRateToSnr(photon_pixel_rate, exposure_time, **system_parameters) for photon_pixel_rate in photon_pixel_rate_list]\n",
    "print(snr_list)"
   ]
  },
  {
   "cell_type": "markdown",
   "metadata": {},
   "source": [
    "## Add SNR to Measurements"
   ]
  },
  {
   "cell_type": "code",
   "execution_count": 14,
   "metadata": {
    "ExecuteTime": {
     "end_time": "2020-05-04T02:08:44.306429Z",
     "start_time": "2020-05-04T02:08:44.219592Z"
    }
   },
   "outputs": [
    {
     "output_type": "display_data",
     "data": {
      "text/plain": "Canvas(toolbar=Toolbar(toolitems=[('Home', 'Reset original view', 'home', 'home'), ('Back', 'Back to previous …",
      "application/vnd.jupyter.widget-view+json": {
       "version_major": 2,
       "version_minor": 0,
       "model_id": "ad1804cb33524004a1d9f92df9e583c0"
      }
     },
     "metadata": {}
    }
   ],
   "source": [
    "# Add noise to measurements\n",
    "measurement_list_noisy = [comptic.noise.add(measurement, type='gaussian', snr=snr) for measurement, snr in zip(measurement_list, snr_list)]\n",
    "\n",
    "# Show noisy measurements\n",
    "yp.listPlotFlat(measurement_list_noisy)"
   ]
  },
  {
   "source": [
    "# Normalize Measurements"
   ],
   "cell_type": "markdown",
   "metadata": {}
  },
  {
   "cell_type": "code",
   "execution_count": 18,
   "metadata": {
    "ExecuteTime": {
     "end_time": "2020-05-04T02:09:12.784611Z",
     "start_time": "2020-05-04T02:09:12.754083Z"
    }
   },
   "outputs": [],
   "source": [
    "measurement_list_normalized = [measurement / yp.mean(measurement) - 1.0 for measurement in measurement_list_noisy]"
   ]
  },
  {
   "cell_type": "markdown",
   "metadata": {},
   "source": [
    "## Perform DPC Inversion"
   ]
  },
  {
   "cell_type": "code",
   "execution_count": 30,
   "metadata": {
    "ExecuteTime": {
     "end_time": "2020-05-04T02:09:15.092472Z",
     "start_time": "2020-05-04T02:09:15.009858Z"
    }
   },
   "outputs": [
    {
     "output_type": "display_data",
     "data": {
      "text/plain": "Canvas(toolbar=Toolbar(toolitems=[('Home', 'Reset original view', 'home', 'home'), ('Back', 'Back to previous …",
      "application/vnd.jupyter.widget-view+json": {
       "version_major": 2,
       "version_minor": 0,
       "model_id": "829f8fce82b34420956e15fa91d2fff4"
      }
     },
     "metadata": {}
    },
    {
     "output_type": "execute_result",
     "data": {
      "text/plain": "<matplotlib.image.AxesImage at 0x12e8a8ca0>"
     },
     "metadata": {},
     "execution_count": 30
    }
   ],
   "source": [
    "field_recovered = comptic.dpc.invert(measurement_list_normalized, Hr_list, Hi_list, reg_imag=1e-4, reg_real=1e-4)\n",
    "\n",
    "plt.figure()\n",
    "plt.subplot(121)\n",
    "plt.imshow(yp.real(field_recovered))\n",
    "plt.subplot(122)\n",
    "plt.imshow(yp.imag(field_recovered))"
   ]
  }
 ],
 "metadata": {
  "kernelspec": {
   "display_name": "Python 3.8.3 64-bit ('base': conda)",
   "language": "python",
   "name": "python_defaultSpec_1600747054125"
  },
  "language_info": {
   "codemirror_mode": {
    "name": "ipython",
    "version": 3
   },
   "file_extension": ".py",
   "mimetype": "text/x-python",
   "name": "python",
   "nbconvert_exporter": "python",
   "pygments_lexer": "ipython3",
   "version": "3.8.3-final"
  },
  "latex_envs": {
   "LaTeX_envs_menu_present": true,
   "autocomplete": true,
   "bibliofile": "biblio.bib",
   "cite_by": "apalike",
   "current_citInitial": 1,
   "eqLabelWithNumbers": true,
   "eqNumInitial": 1,
   "hotkeys": {
    "equation": "Ctrl-E",
    "itemize": "Ctrl-I"
   },
   "labels_anchors": false,
   "latex_user_defs": false,
   "report_style_numbering": false,
   "user_envs_cfg": false
  }
 },
 "nbformat": 4,
 "nbformat_minor": 2
}