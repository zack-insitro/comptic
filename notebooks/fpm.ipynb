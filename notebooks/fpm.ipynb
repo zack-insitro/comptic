{
 "cells": [
  {
   "source": [
    "# FPM Simulation\n",
    "This ntoebook is not fully functional."
   ],
   "cell_type": "markdown",
   "metadata": {}
  },
  {
   "cell_type": "code",
   "execution_count": 1,
   "metadata": {
    "ExecuteTime": {
     "end_time": "2020-08-13T03:47:29.015585Z",
     "start_time": "2020-08-13T03:47:23.801654Z"
    },
    "tags": []
   },
   "outputs": [],
   "source": [
    "%matplotlib widget\n",
    "%load_ext autoreload\n",
    "%autoreload 2\n",
    "\n",
    "import numpy as np\n",
    "import matplotlib.pyplot as plt\n",
    "import llops as yp\n",
    "import comptic\n",
    "import llops.operators as ops\n",
    "from tqdm.notebook import tqdm\n",
    "\n",
    "from comptic import fpm\n",
    "\n",
    "yp.setDefaultDatatype('complex32')\n",
    "yp.setDefaultBackend('numpy')\n"
   ]
  },
  {
   "source": [
    "# Generate Object"
   ],
   "cell_type": "markdown",
   "metadata": {}
  },
  {
   "cell_type": "code",
   "execution_count": 2,
   "metadata": {
    "ExecuteTime": {
     "end_time": "2020-08-13T03:47:33.472471Z",
     "start_time": "2020-08-13T03:47:32.486863Z"
    }
   },
   "outputs": [
    {
     "output_type": "display_data",
     "data": {
      "text/plain": "Canvas(toolbar=Toolbar(toolitems=[('Home', 'Reset original view', 'home', 'home'), ('Back', 'Back to previous …",
      "application/vnd.jupyter.widget-view+json": {
       "version_major": 2,
       "version_minor": 0,
       "model_id": "9b12e37155e34caca8e9180f6166f8b7"
      }
     },
     "metadata": {}
    },
    {
     "output_type": "execute_result",
     "data": {
      "text/plain": "Text(0.5, 1.0, 'Phase')"
     },
     "metadata": {},
     "execution_count": 2
    }
   ],
   "source": [
    "object_shape = (256, 256)\n",
    "object_true = yp.simulation.ucb(object_shape)\n",
    "\n",
    "plt.figure()\n",
    "plt.subplot(121)\n",
    "plt.imshow(yp.abs(object_true))\n",
    "plt.title('Amplitude')\n",
    "plt.subplot(122)\n",
    "plt.imshow(yp.angle(object_true))\n",
    "plt.title('Phase')"
   ]
  },
  {
   "cell_type": "markdown",
   "metadata": {},
   "source": [
    "## Define Settings"
   ]
  },
  {
   "cell_type": "code",
   "execution_count": 3,
   "metadata": {
    "ExecuteTime": {
     "end_time": "2020-08-13T03:47:35.617847Z",
     "start_time": "2020-08-13T03:47:35.547714Z"
    }
   },
   "outputs": [
    {
     "output_type": "display_data",
     "data": {
      "text/plain": "Canvas(toolbar=Toolbar(toolitems=[('Home', 'Reset original view', 'home', 'home'), ('Back', 'Back to previous …",
      "application/vnd.jupyter.widget-view+json": {
       "version_major": 2,
       "version_minor": 0,
       "model_id": "5260c604320e4059a908ec8ebc5b8dd5"
      }
     },
     "metadata": {}
    }
   ],
   "source": [
    "# Generate system parameters\n",
    "system_parameters = fpm.getDefaultSystemParams(pixel_count=object_shape)\n",
    "\n",
    "# Show led positions\n",
    "fpm.plotLedPattern( **system_parameters)"
   ]
  },
  {
   "cell_type": "markdown",
   "metadata": {},
   "source": [
    "## Generate Pupil Function"
   ]
  },
  {
   "cell_type": "code",
   "execution_count": 4,
   "metadata": {
    "ExecuteTime": {
     "end_time": "2020-08-13T03:47:37.251709Z",
     "start_time": "2020-08-13T03:47:36.898092Z"
    },
    "tags": []
   },
   "outputs": [],
   "source": [
    "# Generate Pupil\n",
    "pupil = comptic.imaging.pupil(object_shape, **system_parameters)"
   ]
  },
  {
   "cell_type": "markdown",
   "metadata": {},
   "source": [
    "## Generate LED Sequences"
   ]
  },
  {
   "cell_type": "code",
   "execution_count": 5,
   "metadata": {
    "ExecuteTime": {
     "end_time": "2019-05-16T06:15:05.504479Z",
     "start_time": "2019-05-16T06:15:05.472349Z"
    }
   },
   "outputs": [],
   "source": [
    "# Select LED pattern. Should be a list of list of integers; each internal list has the LED id positions which are illuminated.\n",
    "single = [[i] for i, x in enumerate(system_parameters['illumination_source_position_list_na'])]\n",
    "multiplexed = [[4 * i + j for j in range(4)] for i in range(8)]\n",
    "patterns = single[:120]"
   ]
  },
  {
   "cell_type": "markdown",
   "metadata": {},
   "source": [
    "## Generate Forward Models"
   ]
  },
  {
   "cell_type": "code",
   "execution_count": 6,
   "metadata": {
    "ExecuteTime": {
     "end_time": "2019-05-16T06:15:13.056852Z",
     "start_time": "2019-05-16T06:15:06.115324Z"
    },
    "tags": []
   },
   "outputs": [
    {
     "output_type": "display_data",
     "data": {
      "text/plain": "HBox(children=(FloatProgress(value=0.0, description='Forward Models Generated', max=120.0, style=ProgressStyle…",
      "application/vnd.jupyter.widget-view+json": {
       "version_major": 2,
       "version_minor": 0,
       "model_id": "2700014177c7460a92580d54d2806c7f"
      }
     },
     "metadata": {}
    },
    {
     "output_type": "stream",
     "name": "stdout",
     "text": "\n"
    }
   ],
   "source": [
    "# Generate Intensity Operator\n",
    "I = ops.Intensity(object_shape)\n",
    "\n",
    "# Generate Phase Ramp Operator\n",
    "R = ops.PhaseRamp(object_shape)\n",
    "\n",
    "# Generate Fourier Transform Operator\n",
    "F = ops.FourierTransform(object_shape)\n",
    "\n",
    "# Generate pupil dot multiplication operator\n",
    "P = ops.Diagonalize(pupil, label='\\\\tilde P')\n",
    "\n",
    "# Parse Illumination wavelength\n",
    "illumination_wavelength = system_parameters['illumination_wavelength']\n",
    "\n",
    "# Convert led position list to correct backend\n",
    "led_position_list_na = yp.asarray(system_parameters['illumination_source_position_list_na'], dtype='complex32')\n",
    "\n",
    "# Derived constants\n",
    "effective_pixel_size = system_parameters['camera_pixel_size'] / system_parameters['objective_magnification'] \n",
    "dkxy = yp.asarray([1 / (sz * effective_pixel_size) for sz in object_shape], dtype='complex32')\n",
    "\n",
    "# Initialise forward model list (A_list) and measurement list (y_list)\n",
    "A_list, y_list = [], []\n",
    "for pattern_index, led_pattern in enumerate(tqdm(patterns, 'Forward Models Generated')):\n",
    "    A_pattern = None\n",
    "    \n",
    "    # Loop over all LEDs in this pattern\n",
    "    for led_id in led_pattern:\n",
    "        led_position_na = yp.squeeze(led_position_list_na[led_id])\n",
    "        \n",
    "        # Determine the shift of the LED position in pixels\n",
    "        pixel_shift = led_position_na / illumination_wavelength / dkxy\n",
    "        \n",
    "        # Create phase ramp multiplication operator\n",
    "        S = ops.Diagonalize(R * pixel_shift, label='S_{' + str(pattern_index) + '}')\n",
    "        \n",
    "        # Generate complete forward model\n",
    "        _A = I * (F.H * P * F * S)\n",
    "        \n",
    "        # Add this forward operator to the list\n",
    "        A_pattern = _A if not A_pattern else A_pattern + _A\n",
    "    \n",
    "    # Append forward model to list\n",
    "    A_list.append(A_pattern)\n",
    "    \n",
    "    # Generate measurement\n",
    "    y_list.append(A_pattern * object_true)\n",
    "    \n",
    "# Combine these operators into a set if vertically stacked measurements\n",
    "A = ops.Vstack(A_list)\n",
    "\n",
    "# Create measurements\n",
    "y = ops.VecStack(y_list)"
   ]
  },
  {
   "cell_type": "markdown",
   "metadata": {},
   "source": [
    "## Create Objective Function"
   ]
  },
  {
   "cell_type": "code",
   "execution_count": 9,
   "metadata": {
    "ExecuteTime": {
     "end_time": "2019-05-16T06:15:27.672367Z",
     "start_time": "2019-05-16T06:15:27.164829Z"
    }
   },
   "outputs": [
    {
     "output_type": "error",
     "ename": "AttributeError",
     "evalue": "'Operator' object has no attribute 'sum'",
     "traceback": [
      "\u001b[0;31m---------------------------------------------------------------------------\u001b[0m",
      "\u001b[0;31mAttributeError\u001b[0m                            Traceback (most recent call last)",
      "\u001b[0;32m<ipython-input-9-9e6a0dc541e7>\u001b[0m in \u001b[0;36m<module>\u001b[0;34m\u001b[0m\n\u001b[0;32m----> 1\u001b[0;31m \u001b[0mobjective\u001b[0m \u001b[0;34m=\u001b[0m \u001b[0myp\u001b[0m\u001b[0;34m.\u001b[0m\u001b[0msolvers\u001b[0m\u001b[0;34m.\u001b[0m\u001b[0mobjectivefunctions\u001b[0m\u001b[0;34m.\u001b[0m\u001b[0mL2\u001b[0m\u001b[0;34m(\u001b[0m\u001b[0mA\u001b[0m\u001b[0;34m,\u001b[0m \u001b[0my\u001b[0m\u001b[0;34m)\u001b[0m \u001b[0;34m+\u001b[0m \u001b[0myp\u001b[0m\u001b[0;34m.\u001b[0m\u001b[0msolvers\u001b[0m\u001b[0;34m.\u001b[0m\u001b[0mregularizers\u001b[0m\u001b[0;34m.\u001b[0m\u001b[0mWaveletSparsity\u001b[0m\u001b[0;34m(\u001b[0m\u001b[0mobject_shape\u001b[0m\u001b[0;34m)\u001b[0m\u001b[0;34m\u001b[0m\u001b[0;34m\u001b[0m\u001b[0m\n\u001b[0m\u001b[1;32m      2\u001b[0m \u001b[0;34m\u001b[0m\u001b[0m\n\u001b[1;32m      3\u001b[0m \u001b[0;31m# Render Latex\u001b[0m\u001b[0;34m\u001b[0m\u001b[0;34m\u001b[0m\u001b[0;34m\u001b[0m\u001b[0m\n\u001b[1;32m      4\u001b[0m \u001b[0mobjective\u001b[0m\u001b[0;34m.\u001b[0m\u001b[0mlatex\u001b[0m\u001b[0;34m(\u001b[0m\u001b[0;34m)\u001b[0m\u001b[0;34m\u001b[0m\u001b[0;34m\u001b[0m\u001b[0m\n",
      "\u001b[0;32m~/develop/llops/llops/solvers/objectivefunctions.py\u001b[0m in \u001b[0;36mL2\u001b[0;34m(A, y, reg)\u001b[0m\n\u001b[1;32m     45\u001b[0m \u001b[0;34m\u001b[0m\u001b[0m\n\u001b[1;32m     46\u001b[0m     \u001b[0;31m# Simply return this operator\u001b[0m\u001b[0;34m\u001b[0m\u001b[0;34m\u001b[0m\u001b[0;34m\u001b[0m\u001b[0m\n\u001b[0;32m---> 47\u001b[0;31m     \u001b[0;32mreturn\u001b[0m \u001b[0m_addInvertFunction\u001b[0m\u001b[0;34m(\u001b[0m\u001b[0mobjective\u001b[0m\u001b[0;34m)\u001b[0m\u001b[0;34m\u001b[0m\u001b[0;34m\u001b[0m\u001b[0m\n\u001b[0m\u001b[1;32m     48\u001b[0m \u001b[0;34m\u001b[0m\u001b[0m\n\u001b[1;32m     49\u001b[0m \u001b[0;34m\u001b[0m\u001b[0m\n",
      "\u001b[0;32m~/develop/llops/llops/solvers/objectivefunctions.py\u001b[0m in \u001b[0;36m_addInvertFunction\u001b[0;34m(objective)\u001b[0m\n\u001b[1;32m     73\u001b[0m     \u001b[0;31m# Determine if objective has a regularization term. If so, only inverte data term\u001b[0m\u001b[0;34m\u001b[0m\u001b[0;34m\u001b[0m\u001b[0;34m\u001b[0m\u001b[0m\n\u001b[1;32m     74\u001b[0m     \u001b[0;31m# Regularization has been added in previous step (TODO move that here)\u001b[0m\u001b[0;34m\u001b[0m\u001b[0;34m\u001b[0m\u001b[0;34m\u001b[0m\u001b[0m\n\u001b[0;32m---> 75\u001b[0;31m     \u001b[0;32mif\u001b[0m \u001b[0mobjective\u001b[0m\u001b[0;34m.\u001b[0m\u001b[0msum\u001b[0m\u001b[0;34m:\u001b[0m\u001b[0;34m\u001b[0m\u001b[0;34m\u001b[0m\u001b[0m\n\u001b[0m\u001b[1;32m     76\u001b[0m         \u001b[0m_objective\u001b[0m \u001b[0;34m=\u001b[0m \u001b[0mobjective\u001b[0m\u001b[0;34m.\u001b[0m\u001b[0msuboperators\u001b[0m\u001b[0;34m[\u001b[0m\u001b[0;36m0\u001b[0m\u001b[0;34m]\u001b[0m\u001b[0;34m.\u001b[0m\u001b[0mstack_operators\u001b[0m\u001b[0;34m[\u001b[0m\u001b[0;36m0\u001b[0m\u001b[0;34m]\u001b[0m\u001b[0;34m\u001b[0m\u001b[0;34m\u001b[0m\u001b[0m\n\u001b[1;32m     77\u001b[0m     \u001b[0;32melse\u001b[0m\u001b[0;34m:\u001b[0m\u001b[0;34m\u001b[0m\u001b[0;34m\u001b[0m\u001b[0m\n",
      "\u001b[0;31mAttributeError\u001b[0m: 'Operator' object has no attribute 'sum'"
     ]
    }
   ],
   "source": [
    "objective = yp.solvers.objectivefunctions.L2(A, y) + yp.solvers.regularizers.WaveletSparsity(object_shape)\n",
    "\n",
    "# Render Latex\n",
    "objective.latex()"
   ]
  },
  {
   "cell_type": "code",
   "execution_count": 87,
   "metadata": {
    "ExecuteTime": {
     "end_time": "2019-05-16T06:15:43.609854Z",
     "start_time": "2019-05-16T06:15:34.480844Z"
    },
    "tags": []
   },
   "outputs": [
    {
     "output_type": "stream",
     "name": "stdout",
     "text": "Minimizing function:\n"
    },
    {
     "output_type": "display_data",
     "data": {
      "text/plain": "<IPython.core.display.Latex object>",
      "text/latex": "$A(\\vec{x}) = \\frac{1}{2} ||(\\begin{bmatrix}|F^H \\times diag(\\vec{\\tilde P})\\times F \\times diag(\\vec{S_{0}})|^2 \\cr |F^H \\times diag(\\vec{\\tilde P})\\times F \\times diag(\\vec{S_{1}})|^2\\cr \\vdots \\cr|F^H \\times diag(\\vec{\\tilde P})\\times F \\times diag(\\vec{S_{118}})|^2 \\cr |F^H \\times diag(\\vec{\\tilde P})\\times F \\times diag(\\vec{S_{119}})|^2\\end{bmatrix} \\times \\vec{x} - \\vec{y} )||_2^2 + ||A \\times \\vec{x}||_1$"
     },
     "metadata": {}
    },
    {
     "output_type": "stream",
     "name": "stdout",
     "text": "\u001b[94m|  Iter  |      Cost      | Elapsed time (s) |  Norm of Step  | Memory Usage (CPU/GPU) |\u001b[0m\n\u001b[94m+ ------ + -------------- + ---------------- + -------------- + ---------------------- +\u001b[0m\n|    0   |    1.18e+05    |       0.00       |    0.00e+00    |  344.5 MB /  302.0 MB  |\n|    2   |    7.69e+04    |       2.10       |    1.26e+00    |  345.4 MB /  408.8 MB  |\n|    4   |    6.35e+04    |       4.51       |    1.26e+00    |  347.0 MB /  528.8 MB  |\n|    6   |    5.78e+04    |       7.08       |    5.85e-01    |  345.6 MB /  306.8 MB  |\n|    8   |    5.38e+04    |       9.53       |    1.11e-01    |  346.2 MB /  412.8 MB  |\n|   10   |    5.10e+04    |      12.28       |    4.00e-01    |  347.1 MB /  508.8 MB  |\n|   12   |    4.96e+04    |      15.05       |    2.74e-01    |  350.5 MB /  615.8 MB  |\n|   14   |    4.89e+04    |      17.78       |    6.33e-02    |  349.5 MB /  306.8 MB  |\n|   16   |    4.86e+04    |      20.20       |    2.30e-02    |  349.6 MB /  402.3 MB  |\n|   18   |    4.85e+04    |      22.86       |    2.54e-02    |  349.7 MB /  509.8 MB  |\n|   20   |    4.85e+04    |      25.50       |    1.25e-02    |  354.1 MB /  611.3 MB  |\n"
    },
    {
     "output_type": "display_data",
     "data": {
      "text/plain": "Canvas(toolbar=Toolbar(toolitems=[('Home', 'Reset original view', 'home', 'home'), ('Back', 'Back to previous …",
      "application/vnd.jupyter.widget-view+json": {
       "version_major": 2,
       "version_minor": 0,
       "model_id": "aa47f63ff580468c8c4ecf064e7e5559"
      }
     },
     "metadata": {}
    }
   ],
   "source": [
    "# Define Initialization\n",
    "initialization = yp.ones(object_shape)\n",
    "\n",
    "# Solve by accelerated gradient descent\n",
    "x_opt = yp.solvers.Fista(objective).solve(iteration_count=20, display_type='text', step_size=5e-3,\n",
    "                                          use_nesterov_acceleration=True, nesterov_restart_enabled=True, initialization=initialization)\n",
    "\n",
    "# Show recovered object\n",
    "plt.figure()\n",
    "plt.subplot(121)\n",
    "plt.imshow(np.abs(x_opt), cmap = 'gray')\n",
    "plt.title('Reconstructed Amplitude')\n",
    "\n",
    "plt.subplot(122)\n",
    "plt.imshow(np.angle(x_opt), cmap = 'gray')\n",
    "plt.title('Reconstructed Phase')\n",
    "\n",
    "plt.tight_layout()\n",
    "plt.show()"
   ]
  },
  {
   "cell_type": "code",
   "execution_count": null,
   "metadata": {},
   "outputs": [],
   "source": []
  }
 ],
 "metadata": {
  "kernelspec": {
   "display_name": "Python 3",
   "language": "python",
   "name": "python3"
  },
  "language_info": {
   "codemirror_mode": {
    "name": "ipython",
    "version": 3
   },
   "file_extension": ".py",
   "mimetype": "text/x-python",
   "name": "python",
   "nbconvert_exporter": "python",
   "pygments_lexer": "ipython3",
   "version": "3.8.3-final"
  }
 },
 "nbformat": 4,
 "nbformat_minor": 2
}